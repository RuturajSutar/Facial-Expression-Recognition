{
 "cells": [
  {
   "cell_type": "code",
   "execution_count": 1,
   "metadata": {},
   "outputs": [
    {
     "name": "stderr",
     "output_type": "stream",
     "text": [
      "Using TensorFlow backend.\n"
     ]
    }
   ],
   "source": [
    "from __future__ import print_function\n",
    "import keras\n",
    "from keras.preprocessing.image import ImageDataGenerator\n",
    "from keras.models import Sequential\n",
    "from keras.layers import Dense,Dropout,Activation,Flatten,BatchNormalization\n",
    "from keras.layers import Conv2D,MaxPooling2D\n",
    "import os"
   ]
  },
  {
   "cell_type": "code",
   "execution_count": 2,
   "metadata": {},
   "outputs": [],
   "source": [
    "num_classes = 7\n",
    "img_rows,img_cols = 48,48\n",
    "batch_size = 64"
   ]
  },
  {
   "cell_type": "code",
   "execution_count": 3,
   "metadata": {},
   "outputs": [],
   "source": [
    "train_data_dir = '/Users/Ruturaj/Desktop/Facial_expression_recognization/train'\n",
    "validation_data_dir = '/Users/Ruturaj/Desktop/Facial_expression_recognization/validation'"
   ]
  },
  {
   "cell_type": "code",
   "execution_count": 4,
   "metadata": {},
   "outputs": [],
   "source": [
    "train_datagen = ImageDataGenerator(\n",
    "\t\t\t\t\trescale=1./255,\n",
    "\t\t\t\t\trotation_range=30,\n",
    "\t\t\t\t\tshear_range=0.3,\n",
    "\t\t\t\t\tzoom_range=0.3,\n",
    "\t\t\t\t\twidth_shift_range=0.4,\n",
    "\t\t\t\t\theight_shift_range=0.4,\n",
    "\t\t\t\t\thorizontal_flip=True,\n",
    "\t\t\t\t\tfill_mode='nearest')\n",
    "\n",
    "validation_datagen = ImageDataGenerator(rescale=1./255)"
   ]
  },
  {
   "cell_type": "code",
   "execution_count": 5,
   "metadata": {},
   "outputs": [
    {
     "name": "stdout",
     "output_type": "stream",
     "text": [
      "Found 140367 images belonging to 7 classes.\n",
      "Found 3589 images belonging to 7 classes.\n"
     ]
    }
   ],
   "source": [
    "train_generator = train_datagen.flow_from_directory(\n",
    "\t\t\t\t\ttrain_data_dir,\n",
    "\t\t\t\t\tcolor_mode='grayscale',\n",
    "\t\t\t\t\ttarget_size=(img_rows,img_cols),\n",
    "\t\t\t\t\tbatch_size=batch_size,\n",
    "\t\t\t\t\tclass_mode='categorical',\n",
    "\t\t\t\t\tshuffle=True)\n",
    "\n",
    "validation_generator = validation_datagen.flow_from_directory(\n",
    "\t\t\t\t\t\t\tvalidation_data_dir,\n",
    "\t\t\t\t\t\t\tcolor_mode='grayscale',\n",
    "\t\t\t\t\t\t\ttarget_size=(img_rows,img_cols),\n",
    "\t\t\t\t\t\t\tbatch_size=batch_size,\n",
    "\t\t\t\t\t\t\tclass_mode='categorical',\n",
    "\t\t\t\t\t\t\tshuffle=True)"
   ]
  },
  {
   "cell_type": "code",
   "execution_count": 6,
   "metadata": {},
   "outputs": [],
   "source": [
    "model = Sequential()"
   ]
  },
  {
   "cell_type": "code",
   "execution_count": null,
   "metadata": {},
   "outputs": [],
   "source": [
    "# model.add(Conv2D(32 , kernel_size = (3,3) , activation = 'relu', input_shape = (img_rows,img_cols,1)))\n",
    "# model.add(Conv2D(64 , kernel_size = (3,3) , activation = 'relu'))\n",
    "# model.add(MaxPooling2D(pool_size=(2,2)))\n",
    "# model.add(Dropout(0.25))"
   ]
  },
  {
   "cell_type": "code",
   "execution_count": null,
   "metadata": {},
   "outputs": [],
   "source": [
    "# model.add(Conv2D(128 , kernel_size = (3,3) , activation = 'relu'))\n",
    "# model.add(MaxPooling2D(pool_size=(2,2)))\n",
    "# model.add(Conv2D(128 , kernel_size = (3,3) , activation = 'relu'))\n",
    "# model.add(MaxPooling2D(pool_size=(2,2)))\n",
    "# model.add(Dropout(0.25))"
   ]
  },
  {
   "cell_type": "code",
   "execution_count": null,
   "metadata": {},
   "outputs": [],
   "source": [
    "# model.add(Flatten())\n",
    "# model.add(Dense(1024 , activation = 'relu'))\n",
    "# model.add(Dropout(0.5))\n",
    "# model.add(Dense(7 , activation = 'softmax'))"
   ]
  },
  {
   "cell_type": "code",
   "execution_count": 7,
   "metadata": {},
   "outputs": [],
   "source": [
    "# Block-1\n",
    "\n",
    "model.add(Conv2D(32,(3,3),padding='same',kernel_initializer='he_normal',input_shape=(img_rows,img_cols,1)))\n",
    "model.add(Activation('elu'))\n",
    "model.add(BatchNormalization())\n",
    "model.add(Conv2D(32,(3,3),padding='same',kernel_initializer='he_normal',input_shape=(img_rows,img_cols,1)))\n",
    "model.add(Activation('elu'))\n",
    "model.add(BatchNormalization())\n",
    "model.add(MaxPooling2D(pool_size=(2,2)))\n",
    "model.add(Dropout(0.2))"
   ]
  },
  {
   "cell_type": "code",
   "execution_count": 8,
   "metadata": {},
   "outputs": [],
   "source": [
    "# Block-2 \n",
    "\n",
    "model.add(Conv2D(64,(3,3),padding='same',kernel_initializer='he_normal'))\n",
    "model.add(Activation('elu'))\n",
    "model.add(BatchNormalization())\n",
    "model.add(Conv2D(64,(3,3),padding='same',kernel_initializer='he_normal'))\n",
    "model.add(Activation('elu'))\n",
    "model.add(BatchNormalization())\n",
    "model.add(MaxPooling2D(pool_size=(2,2)))\n",
    "model.add(Dropout(0.2))"
   ]
  },
  {
   "cell_type": "code",
   "execution_count": 9,
   "metadata": {},
   "outputs": [],
   "source": [
    "# Block-3\n",
    "\n",
    "model.add(Conv2D(128,(3,3),padding='same',kernel_initializer='he_normal'))\n",
    "model.add(Activation('elu'))\n",
    "model.add(BatchNormalization())\n",
    "model.add(Conv2D(128,(3,3),padding='same',kernel_initializer='he_normal'))\n",
    "model.add(Activation('elu'))\n",
    "model.add(BatchNormalization())\n",
    "model.add(MaxPooling2D(pool_size=(2,2)))\n",
    "model.add(Dropout(0.2))"
   ]
  },
  {
   "cell_type": "code",
   "execution_count": 10,
   "metadata": {},
   "outputs": [],
   "source": [
    "# Block-4 \n",
    "\n",
    "model.add(Conv2D(256,(3,3),padding='same',kernel_initializer='he_normal'))\n",
    "model.add(Activation('elu'))\n",
    "model.add(BatchNormalization())\n",
    "model.add(Conv2D(256,(3,3),padding='same',kernel_initializer='he_normal'))\n",
    "model.add(Activation('elu'))\n",
    "model.add(BatchNormalization())\n",
    "model.add(MaxPooling2D(pool_size=(2,2)))\n",
    "model.add(Dropout(0.2))"
   ]
  },
  {
   "cell_type": "code",
   "execution_count": 11,
   "metadata": {},
   "outputs": [],
   "source": [
    "# Block-5\n",
    "\n",
    "model.add(Flatten())\n",
    "model.add(Dense(64,kernel_initializer='he_normal'))\n",
    "model.add(Activation('elu'))\n",
    "model.add(BatchNormalization())\n",
    "model.add(Dropout(0.5))"
   ]
  },
  {
   "cell_type": "code",
   "execution_count": 12,
   "metadata": {},
   "outputs": [],
   "source": [
    "# Block-6\n",
    "\n",
    "model.add(Dense(64,kernel_initializer='he_normal'))\n",
    "model.add(Activation('elu'))\n",
    "model.add(BatchNormalization())\n",
    "model.add(Dropout(0.5))"
   ]
  },
  {
   "cell_type": "code",
   "execution_count": 13,
   "metadata": {},
   "outputs": [],
   "source": [
    "# Block-7\n",
    "\n",
    "model.add(Dense(num_classes,kernel_initializer='he_normal'))\n",
    "model.add(Activation('softmax'))"
   ]
  },
  {
   "cell_type": "code",
   "execution_count": 14,
   "metadata": {},
   "outputs": [
    {
     "name": "stdout",
     "output_type": "stream",
     "text": [
      "Model: \"sequential_1\"\n",
      "_________________________________________________________________\n",
      "Layer (type)                 Output Shape              Param #   \n",
      "=================================================================\n",
      "conv2d_1 (Conv2D)            (None, 48, 48, 32)        320       \n",
      "_________________________________________________________________\n",
      "activation_1 (Activation)    (None, 48, 48, 32)        0         \n",
      "_________________________________________________________________\n",
      "batch_normalization_1 (Batch (None, 48, 48, 32)        128       \n",
      "_________________________________________________________________\n",
      "conv2d_2 (Conv2D)            (None, 48, 48, 32)        9248      \n",
      "_________________________________________________________________\n",
      "activation_2 (Activation)    (None, 48, 48, 32)        0         \n",
      "_________________________________________________________________\n",
      "batch_normalization_2 (Batch (None, 48, 48, 32)        128       \n",
      "_________________________________________________________________\n",
      "max_pooling2d_1 (MaxPooling2 (None, 24, 24, 32)        0         \n",
      "_________________________________________________________________\n",
      "dropout_1 (Dropout)          (None, 24, 24, 32)        0         \n",
      "_________________________________________________________________\n",
      "conv2d_3 (Conv2D)            (None, 24, 24, 64)        18496     \n",
      "_________________________________________________________________\n",
      "activation_3 (Activation)    (None, 24, 24, 64)        0         \n",
      "_________________________________________________________________\n",
      "batch_normalization_3 (Batch (None, 24, 24, 64)        256       \n",
      "_________________________________________________________________\n",
      "conv2d_4 (Conv2D)            (None, 24, 24, 64)        36928     \n",
      "_________________________________________________________________\n",
      "activation_4 (Activation)    (None, 24, 24, 64)        0         \n",
      "_________________________________________________________________\n",
      "batch_normalization_4 (Batch (None, 24, 24, 64)        256       \n",
      "_________________________________________________________________\n",
      "max_pooling2d_2 (MaxPooling2 (None, 12, 12, 64)        0         \n",
      "_________________________________________________________________\n",
      "dropout_2 (Dropout)          (None, 12, 12, 64)        0         \n",
      "_________________________________________________________________\n",
      "conv2d_5 (Conv2D)            (None, 12, 12, 128)       73856     \n",
      "_________________________________________________________________\n",
      "activation_5 (Activation)    (None, 12, 12, 128)       0         \n",
      "_________________________________________________________________\n",
      "batch_normalization_5 (Batch (None, 12, 12, 128)       512       \n",
      "_________________________________________________________________\n",
      "conv2d_6 (Conv2D)            (None, 12, 12, 128)       147584    \n",
      "_________________________________________________________________\n",
      "activation_6 (Activation)    (None, 12, 12, 128)       0         \n",
      "_________________________________________________________________\n",
      "batch_normalization_6 (Batch (None, 12, 12, 128)       512       \n",
      "_________________________________________________________________\n",
      "max_pooling2d_3 (MaxPooling2 (None, 6, 6, 128)         0         \n",
      "_________________________________________________________________\n",
      "dropout_3 (Dropout)          (None, 6, 6, 128)         0         \n",
      "_________________________________________________________________\n",
      "conv2d_7 (Conv2D)            (None, 6, 6, 256)         295168    \n",
      "_________________________________________________________________\n",
      "activation_7 (Activation)    (None, 6, 6, 256)         0         \n",
      "_________________________________________________________________\n",
      "batch_normalization_7 (Batch (None, 6, 6, 256)         1024      \n",
      "_________________________________________________________________\n",
      "conv2d_8 (Conv2D)            (None, 6, 6, 256)         590080    \n",
      "_________________________________________________________________\n",
      "activation_8 (Activation)    (None, 6, 6, 256)         0         \n",
      "_________________________________________________________________\n",
      "batch_normalization_8 (Batch (None, 6, 6, 256)         1024      \n",
      "_________________________________________________________________\n",
      "max_pooling2d_4 (MaxPooling2 (None, 3, 3, 256)         0         \n",
      "_________________________________________________________________\n",
      "dropout_4 (Dropout)          (None, 3, 3, 256)         0         \n",
      "_________________________________________________________________\n",
      "flatten_1 (Flatten)          (None, 2304)              0         \n",
      "_________________________________________________________________\n",
      "dense_1 (Dense)              (None, 64)                147520    \n",
      "_________________________________________________________________\n",
      "activation_9 (Activation)    (None, 64)                0         \n",
      "_________________________________________________________________\n",
      "batch_normalization_9 (Batch (None, 64)                256       \n",
      "_________________________________________________________________\n",
      "dropout_5 (Dropout)          (None, 64)                0         \n",
      "_________________________________________________________________\n",
      "dense_2 (Dense)              (None, 64)                4160      \n",
      "_________________________________________________________________\n",
      "activation_10 (Activation)   (None, 64)                0         \n",
      "_________________________________________________________________\n",
      "batch_normalization_10 (Batc (None, 64)                256       \n",
      "_________________________________________________________________\n",
      "dropout_6 (Dropout)          (None, 64)                0         \n",
      "_________________________________________________________________\n",
      "dense_3 (Dense)              (None, 7)                 455       \n",
      "_________________________________________________________________\n",
      "activation_11 (Activation)   (None, 7)                 0         \n",
      "=================================================================\n",
      "Total params: 1,328,167\n",
      "Trainable params: 1,325,991\n",
      "Non-trainable params: 2,176\n",
      "_________________________________________________________________\n",
      "None\n"
     ]
    }
   ],
   "source": [
    "print(model.summary())"
   ]
  },
  {
   "cell_type": "code",
   "execution_count": 15,
   "metadata": {},
   "outputs": [],
   "source": [
    "from keras.optimizers import RMSprop,SGD,Adam\n",
    "from keras.callbacks import ModelCheckpoint, EarlyStopping, ReduceLROnPlateau"
   ]
  },
  {
   "cell_type": "code",
   "execution_count": null,
   "metadata": {},
   "outputs": [],
   "source": [
    "# checkpoint = ModelCheckpoint('Emotion_little_vgg.h5',\n",
    "#                              monitor='val_loss',\n",
    "#                              mode='min',\n",
    "#                              save_best_only=True,\n",
    "#                              verbose=1)\n",
    "\n",
    "# earlystop = EarlyStopping(monitor='val_loss',\n",
    "#                           min_delta=0,\n",
    "#                           patience=3,\n",
    "#                           verbose=1,\n",
    "#                           restore_best_weights=True\n",
    "#                           )\n",
    "\n",
    "# reduce_lr = ReduceLROnPlateau(monitor='val_loss',\n",
    "#                               factor=0.2,\n",
    "#                               patience=3,\n",
    "#                               verbose=1,\n",
    "#                               min_delta=0.0001)\n",
    "\n",
    "# callbacks = [earlystop,checkpoint,reduce_lr]"
   ]
  },
  {
   "cell_type": "code",
   "execution_count": 16,
   "metadata": {},
   "outputs": [],
   "source": [
    "model.compile(loss='categorical_crossentropy',\n",
    "              optimizer = Adam(lr=0.001),\n",
    "              metrics=['accuracy'])"
   ]
  },
  {
   "cell_type": "code",
   "execution_count": 17,
   "metadata": {},
   "outputs": [],
   "source": [
    "nb_train_samples = 140367\n",
    "nb_validation_samples = 3589\n",
    "epochs=50"
   ]
  },
  {
   "cell_type": "code",
   "execution_count": 18,
   "metadata": {},
   "outputs": [
    {
     "name": "stdout",
     "output_type": "stream",
     "text": [
      "Epoch 1/50\n",
      "2194/2193 [==============================] - 206s 94ms/step - loss: 2.0290 - accuracy: 0.1738 - val_loss: 2.0930 - val_accuracy: 0.2315\n",
      "Epoch 2/50\n",
      "2194/2193 [==============================] - 194s 88ms/step - loss: 1.8527 - accuracy: 0.2436 - val_loss: 3.2079 - val_accuracy: 0.3801\n",
      "Epoch 3/50\n",
      "2194/2193 [==============================] - 191s 87ms/step - loss: 1.6583 - accuracy: 0.3575 - val_loss: 1.8667 - val_accuracy: 0.4269\n",
      "Epoch 4/50\n",
      "2194/2193 [==============================] - 190s 86ms/step - loss: 1.5525 - accuracy: 0.4046 - val_loss: 1.9852 - val_accuracy: 0.4561\n",
      "Epoch 5/50\n",
      "2194/2193 [==============================] - 190s 86ms/step - loss: 1.4950 - accuracy: 0.4298 - val_loss: 1.0294 - val_accuracy: 0.4517\n",
      "Epoch 6/50\n",
      "2194/2193 [==============================] - 201s 92ms/step - loss: 1.4540 - accuracy: 0.4479 - val_loss: 0.4775 - val_accuracy: 0.4918\n",
      "Epoch 7/50\n",
      "2194/2193 [==============================] - 191s 87ms/step - loss: 1.4201 - accuracy: 0.4613 - val_loss: 2.0709 - val_accuracy: 0.4965\n",
      "Epoch 8/50\n",
      "2194/2193 [==============================] - 191s 87ms/step - loss: 1.3907 - accuracy: 0.4752 - val_loss: 3.7931 - val_accuracy: 0.5174\n",
      "Epoch 9/50\n",
      "2194/2193 [==============================] - 190s 87ms/step - loss: 1.3654 - accuracy: 0.4876 - val_loss: 1.0458 - val_accuracy: 0.5118\n",
      "Epoch 10/50\n",
      "2194/2193 [==============================] - 190s 86ms/step - loss: 1.3469 - accuracy: 0.4960 - val_loss: 2.3350 - val_accuracy: 0.5302\n",
      "Epoch 11/50\n",
      "2194/2193 [==============================] - 190s 87ms/step - loss: 1.3300 - accuracy: 0.5047 - val_loss: 0.6470 - val_accuracy: 0.5300\n",
      "Epoch 12/50\n",
      "2194/2193 [==============================] - 190s 86ms/step - loss: 1.3108 - accuracy: 0.5116 - val_loss: 0.6882 - val_accuracy: 0.5244\n",
      "Epoch 13/50\n",
      "2194/2193 [==============================] - 197s 90ms/step - loss: 1.3017 - accuracy: 0.5171 - val_loss: 1.9762 - val_accuracy: 0.5235\n",
      "Epoch 14/50\n",
      "2194/2193 [==============================] - 196s 90ms/step - loss: 1.2910 - accuracy: 0.5193 - val_loss: 1.6498 - val_accuracy: 0.5483\n",
      "Epoch 15/50\n",
      "2194/2193 [==============================] - 202s 92ms/step - loss: 1.2750 - accuracy: 0.5257 - val_loss: 1.5660 - val_accuracy: 0.5425\n",
      "Epoch 16/50\n",
      "2194/2193 [==============================] - 199s 91ms/step - loss: 1.2711 - accuracy: 0.5283 - val_loss: 2.0427 - val_accuracy: 0.5408\n",
      "Epoch 17/50\n",
      "2194/2193 [==============================] - 193s 88ms/step - loss: 1.2576 - accuracy: 0.5322 - val_loss: 2.2939 - val_accuracy: 0.5380\n",
      "Epoch 18/50\n",
      "2194/2193 [==============================] - 192s 88ms/step - loss: 1.2490 - accuracy: 0.5368 - val_loss: 0.1550 - val_accuracy: 0.5380\n",
      "Epoch 19/50\n",
      "2194/2193 [==============================] - 196s 89ms/step - loss: 1.2404 - accuracy: 0.5410 - val_loss: 0.4177 - val_accuracy: 0.5436\n",
      "Epoch 20/50\n",
      "2194/2193 [==============================] - 191s 87ms/step - loss: 1.2351 - accuracy: 0.5435 - val_loss: 1.4176 - val_accuracy: 0.5514\n",
      "Epoch 21/50\n",
      "2194/2193 [==============================] - 193s 88ms/step - loss: 1.2277 - accuracy: 0.5467 - val_loss: 0.6939 - val_accuracy: 0.5575\n",
      "Epoch 22/50\n",
      "2194/2193 [==============================] - 201s 92ms/step - loss: 1.2227 - accuracy: 0.5463 - val_loss: 0.7498 - val_accuracy: 0.5612\n",
      "Epoch 23/50\n",
      "2194/2193 [==============================] - 206s 94ms/step - loss: 1.2150 - accuracy: 0.5500 - val_loss: 1.0758 - val_accuracy: 0.5564\n",
      "Epoch 24/50\n",
      "2194/2193 [==============================] - 190s 86ms/step - loss: 1.2068 - accuracy: 0.5547 - val_loss: 1.9110 - val_accuracy: 0.5378\n",
      "Epoch 25/50\n",
      "2194/2193 [==============================] - 190s 87ms/step - loss: 1.2052 - accuracy: 0.5532 - val_loss: 0.7861 - val_accuracy: 0.5548\n",
      "Epoch 26/50\n",
      "2194/2193 [==============================] - 190s 87ms/step - loss: 1.1986 - accuracy: 0.5573 - val_loss: 1.2146 - val_accuracy: 0.5617\n",
      "Epoch 27/50\n",
      "2194/2193 [==============================] - 190s 86ms/step - loss: 1.1926 - accuracy: 0.5590 - val_loss: 0.4309 - val_accuracy: 0.5603\n",
      "Epoch 28/50\n",
      "2194/2193 [==============================] - 190s 86ms/step - loss: 1.1856 - accuracy: 0.5617 - val_loss: 0.3296 - val_accuracy: 0.5536\n",
      "Epoch 29/50\n",
      "2194/2193 [==============================] - 190s 86ms/step - loss: 1.1813 - accuracy: 0.5644 - val_loss: 1.8750 - val_accuracy: 0.5436\n",
      "Epoch 30/50\n",
      "2194/2193 [==============================] - 190s 86ms/step - loss: 1.1794 - accuracy: 0.5657 - val_loss: 2.7811 - val_accuracy: 0.5542\n",
      "Epoch 31/50\n",
      "2194/2193 [==============================] - 190s 86ms/step - loss: 1.1691 - accuracy: 0.5681 - val_loss: 1.1185 - val_accuracy: 0.5628\n",
      "Epoch 32/50\n",
      "2194/2193 [==============================] - 190s 86ms/step - loss: 1.1695 - accuracy: 0.5673 - val_loss: 1.7393 - val_accuracy: 0.5606\n",
      "Epoch 33/50\n",
      "2194/2193 [==============================] - 190s 86ms/step - loss: 1.1629 - accuracy: 0.5698 - val_loss: 0.8846 - val_accuracy: 0.5684\n",
      "Epoch 34/50\n",
      "2194/2193 [==============================] - 190s 86ms/step - loss: 1.1610 - accuracy: 0.5721 - val_loss: 1.8567 - val_accuracy: 0.5556\n",
      "Epoch 35/50\n",
      "2194/2193 [==============================] - 189s 86ms/step - loss: 1.1565 - accuracy: 0.5729 - val_loss: 2.9125 - val_accuracy: 0.5715\n",
      "Epoch 36/50\n",
      "2194/2193 [==============================] - 190s 86ms/step - loss: 1.1511 - accuracy: 0.5761 - val_loss: 1.7920 - val_accuracy: 0.5567\n",
      "Epoch 37/50\n",
      "2194/2193 [==============================] - 190s 86ms/step - loss: 1.1479 - accuracy: 0.5765 - val_loss: 0.7347 - val_accuracy: 0.5648\n",
      "Epoch 38/50\n",
      "2194/2193 [==============================] - 190s 87ms/step - loss: 1.1478 - accuracy: 0.5769 - val_loss: 1.8606 - val_accuracy: 0.5634\n",
      "Epoch 39/50\n",
      "2194/2193 [==============================] - 189s 86ms/step - loss: 1.1442 - accuracy: 0.5781 - val_loss: 0.7384 - val_accuracy: 0.5678\n",
      "Epoch 40/50\n",
      "2194/2193 [==============================] - 189s 86ms/step - loss: 1.1421 - accuracy: 0.5793 - val_loss: 1.5659 - val_accuracy: 0.5734\n",
      "Epoch 41/50\n",
      "2194/2193 [==============================] - 189s 86ms/step - loss: 1.1353 - accuracy: 0.5815 - val_loss: 1.1353 - val_accuracy: 0.5734\n",
      "Epoch 42/50\n",
      "2194/2193 [==============================] - 189s 86ms/step - loss: 1.1333 - accuracy: 0.5823 - val_loss: 1.3597 - val_accuracy: 0.5612\n",
      "Epoch 43/50\n",
      "2194/2193 [==============================] - 189s 86ms/step - loss: 1.1304 - accuracy: 0.5846 - val_loss: 1.2449 - val_accuracy: 0.5743\n",
      "Epoch 44/50\n",
      "2194/2193 [==============================] - 189s 86ms/step - loss: 1.1255 - accuracy: 0.5850 - val_loss: 1.0540 - val_accuracy: 0.5651\n",
      "Epoch 45/50\n",
      "2194/2193 [==============================] - 189s 86ms/step - loss: 1.1252 - accuracy: 0.5852 - val_loss: 0.1924 - val_accuracy: 0.5701\n",
      "Epoch 46/50\n",
      "2194/2193 [==============================] - 189s 86ms/step - loss: 1.1221 - accuracy: 0.5862 - val_loss: 2.1067 - val_accuracy: 0.5790\n",
      "Epoch 47/50\n",
      "2194/2193 [==============================] - 189s 86ms/step - loss: 1.1193 - accuracy: 0.5888 - val_loss: 2.2985 - val_accuracy: 0.5648\n",
      "Epoch 48/50\n",
      "2194/2193 [==============================] - 189s 86ms/step - loss: 1.1192 - accuracy: 0.5884 - val_loss: 0.5635 - val_accuracy: 0.5670\n",
      "Epoch 49/50\n",
      "2194/2193 [==============================] - 189s 86ms/step - loss: 1.1126 - accuracy: 0.5915 - val_loss: 1.4002 - val_accuracy: 0.5784\n",
      "Epoch 50/50\n",
      "2194/2193 [==============================] - 189s 86ms/step - loss: 1.1118 - accuracy: 0.5908 - val_loss: 2.9283 - val_accuracy: 0.5770\n"
     ]
    },
    {
     "data": {
      "text/plain": [
       "<keras.callbacks.callbacks.History at 0x22b08d3d988>"
      ]
     },
     "execution_count": 18,
     "metadata": {},
     "output_type": "execute_result"
    }
   ],
   "source": [
    "model.fit_generator(\n",
    "                train_generator,\n",
    "                steps_per_epoch=nb_train_samples/batch_size,\n",
    "                epochs=epochs,\n",
    "                validation_data=validation_generator,\n",
    "                validation_steps=nb_validation_samples/batch_size)"
   ]
  },
  {
   "cell_type": "code",
   "execution_count": 19,
   "metadata": {},
   "outputs": [],
   "source": [
    "fer_json = model.to_json()\n",
    "with open(\"fer_8003.json\" , \"w\") as json_file:\n",
    "    json_file.write(fer_json)\n",
    "model.save_weights(\"fer_8003.h5\")"
   ]
  },
  {
   "cell_type": "code",
   "execution_count": null,
   "metadata": {},
   "outputs": [],
   "source": []
  }
 ],
 "metadata": {
  "kernelspec": {
   "display_name": "Python 3",
   "language": "python",
   "name": "python3"
  },
  "language_info": {
   "codemirror_mode": {
    "name": "ipython",
    "version": 3
   },
   "file_extension": ".py",
   "mimetype": "text/x-python",
   "name": "python",
   "nbconvert_exporter": "python",
   "pygments_lexer": "ipython3",
   "version": "3.7.4"
  }
 },
 "nbformat": 4,
 "nbformat_minor": 2
}
